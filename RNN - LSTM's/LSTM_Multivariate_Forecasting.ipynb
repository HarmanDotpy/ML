{
  "nbformat": 4,
  "nbformat_minor": 0,
  "metadata": {
    "colab": {
      "name": "Vanilla-LSTM.ipynb",
      "provenance": [],
      "collapsed_sections": [],
      "authorship_tag": "ABX9TyN4ifcc4hFYOcLkoYws8R4I",
      "include_colab_link": true
    },
    "kernelspec": {
      "name": "python3",
      "display_name": "Python 3"
    },
    "accelerator": "GPU"
  },
  "cells": [
    {
      "cell_type": "markdown",
      "metadata": {
        "id": "view-in-github",
        "colab_type": "text"
      },
      "source": [
        "<a href=\"https://colab.research.google.com/github/HarmanDotpy/RNNs-LSTMs/blob/master/LSTM_Multivariate_Forecasting.ipynb\" target=\"_parent\"><img src=\"https://colab.research.google.com/assets/colab-badge.svg\" alt=\"Open In Colab\"/></a>"
      ]
    },
    {
      "cell_type": "code",
      "metadata": {
        "id": "MgF3iu8W35Bd",
        "colab_type": "code",
        "colab": {}
      },
      "source": [
        "import numpy as np\n",
        "import torch\n",
        "import torch.nn as nn\n",
        "import torch.optim as optim\n",
        "\n",
        "class LSTMmodel(nn.Module):\n",
        "  def __init__(self):\n",
        "    super(LSTMmodel, self).__init__() \n",
        "    \n",
        "    self.input_size = 3 #is the number of expected input features x\n",
        "    self.hidden_size = 50 # is the hidden layer size, ie its the size of a, the hidden state\n",
        "    self.num_layers = 2 # num layers is the number of stacked LSTM layersb we want\n",
        "    self.output_size = 3\n",
        "    self.seq_length = 3 \n",
        "    self.batch_size = 6\n",
        "    \n",
        "    self.lstm = nn.LSTM(input_size = self.input_size, hidden_size = self.hidden_size, num_layers = self.num_layers, batch_first = True)\n",
        "    self.linear = nn.Sequential(\n",
        "                      nn.Linear(self.hidden_size, self.output_size),\n",
        "                      nn.ReLU()\n",
        "                  )\n",
        "  def init_hidden(self):\n",
        "    return (torch.randn(self.num_layers, self.batch_size, self.hidden_size) * 0.01,\n",
        "            torch.randn(self.num_layers, self.batch_size, self.hidden_size) * 0.01)\n",
        "\n",
        "  def forward(self, x):\n",
        "\n",
        "    lstm_out, self.hidden = self.lstm(x)\n",
        "    # lstm_out has dimensions (batch, seq_length,num_directions * hidden_size)\n",
        "    y_pred = self.linear(lstm_out[:, -1, :].reshape(-1, self.hidden_size))\n",
        "    # y_pred has size batch_size * ouput_size\n",
        "    return y_pred\n",
        "\n",
        "\n",
        "\n"
      ],
      "execution_count": 0,
      "outputs": []
    },
    {
      "cell_type": "code",
      "metadata": {
        "id": "Fam4TSTVWs_l",
        "colab_type": "code",
        "outputId": "bc86cd7d-b7a0-4f09-890e-dd34242c546d",
        "colab": {
          "base_uri": "https://localhost:8080/",
          "height": 370
        }
      },
      "source": [
        "# This block of code is taken from https://machinelearningmastery.com/how-to-develop-lstm-models-for-time-series-forecasting/\n",
        "# Generating data in this block of code\n",
        "# multivariate output data prep\n",
        "from numpy import array\n",
        "from numpy import hstack\n",
        "# split a multivariate sequence into samples\n",
        "def split_sequences(sequences, n_steps):\n",
        "\tX, y = list(), list()\n",
        "\tfor i in range(len(sequences)):\n",
        "\t\t# find the end of this pattern\n",
        "\t\tend_ix = i + n_steps\n",
        "\t\t# check if we are beyond the dataset\n",
        "\t\tif end_ix > len(sequences)-1:\n",
        "\t\t\tbreak\n",
        "\t\t# gather input and output parts of the pattern\n",
        "\t\tseq_x, seq_y = sequences[i:end_ix, :], sequences[end_ix, :]\n",
        "\t\tX.append(seq_x)\n",
        "\t\ty.append(seq_y)\n",
        "\treturn array(X), array(y)\n",
        " \n",
        "# define input sequence\n",
        "in_seq1 = array([10, 20, 30, 40, 50, 60, 70, 80, 90])\n",
        "in_seq2 = array([15, 25, 35, 45, 55, 65, 75, 85, 95])\n",
        "out_seq = array([in_seq1[i]+in_seq2[i] for i in range(len(in_seq1))])\n",
        "# convert to [rows, columns] structure\n",
        "in_seq1 = in_seq1.reshape((len(in_seq1), 1))\n",
        "in_seq2 = in_seq2.reshape((len(in_seq2), 1))\n",
        "out_seq = out_seq.reshape((len(out_seq), 1))\n",
        "# horizontally stack columns\n",
        "dataset = hstack((in_seq1, in_seq2, out_seq))\n",
        "# choose a number of time steps\n",
        "n_steps = 3\n",
        "# convert into input/output\n",
        "X, y = split_sequences(dataset, n_steps)\n",
        "print(X.shape, y.shape)\n",
        "print(dataset.shape)\n",
        "# summarize the data\n",
        "for i in range(len(X)):\n",
        "\tprint(X[i], y[i])\n",
        "\n",
        "\n",
        "X_train = torch.Tensor(X)\n",
        "y_train = torch.Tensor(y)\n",
        "print(X_train.shape, y_train.shape)\n",
        "# X_train = X_train.reshape(X_train.shape[1], X_train.shape[0], X_train.shape[2])\n",
        "# print(X_train)\n",
        "# print(y_train)\n",
        "# print(X_train.shape, y_train.shape)"
      ],
      "execution_count": 7,
      "outputs": [
        {
          "output_type": "stream",
          "text": [
            "(6, 3, 3) (6, 3)\n",
            "(9, 3)\n",
            "[[10 15 25]\n",
            " [20 25 45]\n",
            " [30 35 65]] [40 45 85]\n",
            "[[20 25 45]\n",
            " [30 35 65]\n",
            " [40 45 85]] [ 50  55 105]\n",
            "[[ 30  35  65]\n",
            " [ 40  45  85]\n",
            " [ 50  55 105]] [ 60  65 125]\n",
            "[[ 40  45  85]\n",
            " [ 50  55 105]\n",
            " [ 60  65 125]] [ 70  75 145]\n",
            "[[ 50  55 105]\n",
            " [ 60  65 125]\n",
            " [ 70  75 145]] [ 80  85 165]\n",
            "[[ 60  65 125]\n",
            " [ 70  75 145]\n",
            " [ 80  85 165]] [ 90  95 185]\n",
            "torch.Size([6, 3, 3]) torch.Size([6, 3])\n"
          ],
          "name": "stdout"
        }
      ]
    },
    {
      "cell_type": "code",
      "metadata": {
        "id": "S0d_QoNdbJaN",
        "colab_type": "code",
        "colab": {
          "base_uri": "https://localhost:8080/",
          "height": 353
        },
        "outputId": "fc63e6c9-eb99-4cb7-a325-8385768b4326"
      },
      "source": [
        "# initialize model\n",
        "model = LSTMmodel()\n",
        "\n",
        "\n",
        "# keeping batch size as total number of training examples\n",
        "learning_rate = 0.01\n",
        "batch_size = X.shape[0]\n",
        "lossfunction = nn.MSELoss(reduction = 'mean')\n",
        "optimizer = torch.optim.Adam(model.parameters(), lr = learning_rate)\n",
        "num_epochs = 2000\n",
        "\n",
        "loss_list = []\n",
        "\n",
        "# Training model\n",
        "for i in range(num_epochs):\n",
        "\n",
        "  # initialize hidden state\n",
        "  model.hidden = model.init_hidden()\n",
        "\n",
        "  # predict output\n",
        "  y_pred = model(X_train)\n",
        "\n",
        "  # calculate loss\n",
        "  loss = lossfunction(y_pred, y_train)\n",
        "  \n",
        "  # backpropogate\n",
        "  optimizer.zero_grad()\n",
        "  loss.backward()\n",
        "  optimizer.step()\n",
        "\n",
        "  if(i %100 ==0):\n",
        "    print('Epoch = {}, Loss = {}'.format(i, loss))\n",
        "  loss_list.append(loss)\n",
        "\n",
        "\n",
        "# NOTE : If model doesnot converge then try and re run it\n",
        "# my speculation is that some of the outputs always become zero due to \n",
        "# wrong initialization, hence re-running most of the time works"
      ],
      "execution_count": 8,
      "outputs": [
        {
          "output_type": "stream",
          "text": [
            "Epoch = 0, Loss = 9691.0869140625\n",
            "Epoch = 100, Loss = 3471.34619140625\n",
            "Epoch = 200, Loss = 1446.9765625\n",
            "Epoch = 300, Loss = 810.109130859375\n",
            "Epoch = 400, Loss = 629.9395751953125\n",
            "Epoch = 500, Loss = 278.9823303222656\n",
            "Epoch = 600, Loss = 123.60848236083984\n",
            "Epoch = 700, Loss = 68.57200622558594\n",
            "Epoch = 800, Loss = 31.07886505126953\n",
            "Epoch = 900, Loss = 21.40212059020996\n",
            "Epoch = 1000, Loss = 18.2934513092041\n",
            "Epoch = 1100, Loss = 17.28177833557129\n",
            "Epoch = 1200, Loss = 13.15811538696289\n",
            "Epoch = 1300, Loss = 4.206226348876953\n",
            "Epoch = 1400, Loss = 1.7791372537612915\n",
            "Epoch = 1500, Loss = 0.7641615867614746\n",
            "Epoch = 1600, Loss = 0.557267427444458\n",
            "Epoch = 1700, Loss = 0.15440508723258972\n",
            "Epoch = 1800, Loss = 0.08307984471321106\n",
            "Epoch = 1900, Loss = 0.04306900501251221\n"
          ],
          "name": "stdout"
        }
      ]
    },
    {
      "cell_type": "code",
      "metadata": {
        "id": "IpY2_dM66it5",
        "colab_type": "code",
        "colab": {
          "base_uri": "https://localhost:8080/",
          "height": 50
        },
        "outputId": "c6531fd2-ff3c-4381-fb10-52f32003b2df"
      },
      "source": [
        "# Testing if it generates the next output in the sequence\n",
        "model.eval()\n",
        "input = torch.Tensor([[[60, 65, 125], [70, 75, 145], [80, 85, 165]]])\n",
        "print(input.shape)\n",
        "out = model(input)\n",
        "print(out)"
      ],
      "execution_count": 9,
      "outputs": [
        {
          "output_type": "stream",
          "text": [
            "torch.Size([1, 3, 3])\n",
            "tensor([[ 90.1768,  95.0798, 184.2750]], grad_fn=<ReluBackward0>)\n"
          ],
          "name": "stdout"
        }
      ]
    },
    {
      "cell_type": "code",
      "metadata": {
        "id": "bh2zeAPPGS4T",
        "colab_type": "code",
        "colab": {
          "base_uri": "https://localhost:8080/",
          "height": 266
        },
        "outputId": "fa755924-c977-44d4-ca7c-c5fdb2c19943"
      },
      "source": [
        "import matplotlib.pyplot as plt\n",
        "plt.plot(loss_list)\n",
        "plt.show()"
      ],
      "execution_count": 10,
      "outputs": [
        {
          "output_type": "display_data",
          "data": {
            "image/png": "[encoded data removed]",
            "text/plain": [
              "<Figure size 432x288 with 1 Axes>"
            ]
          },
          "metadata": {
            "tags": [],
            "needs_background": "light"
          }
        }
      ]
    }
  ]
}