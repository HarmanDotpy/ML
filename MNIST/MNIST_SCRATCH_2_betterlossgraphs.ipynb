{
  "nbformat": 4,
  "nbformat_minor": 0,
  "metadata": {
    "colab": {
      "name": "MNIST_SCRATCH",
      "provenance": [],
      "collapsed_sections": [],
      "authorship_tag": "ABX9TyPng/ju/uNJj3t+D+nSyIur",
      "include_colab_link": true
    },
    "kernelspec": {
      "name": "python3",
      "display_name": "Python 3"
    },
    "accelerator": "GPU"
  },
  "cells": [
    {
      "cell_type": "markdown",
      "metadata": {
        "id": "view-in-github",
        "colab_type": "text"
      },
      "source": [
        "<a href=\"https://colab.research.google.com/github/Harman2607/ML_Scratch/blob/master/MNIST/MNIST_SCRATCH_2_betterlossgraphs.ipynb\" target=\"_parent\"><img src=\"https://colab.research.google.com/assets/colab-badge.svg\" alt=\"Open In Colab\"/></a>"
      ]
    },
    {
      "cell_type": "code",
      "metadata": {
        "id": "er098GFxiSZJ",
        "colab_type": "code",
        "colab": {}
      },
      "source": [
        "import matplotlib.pyplot as plt"
      ],
      "execution_count": 0,
      "outputs": []
    },
    {
      "cell_type": "code",
      "metadata": {
        "id": "X_b_KKXMa1cH",
        "colab_type": "code",
        "colab": {}
      },
      "source": [
        "# MNIST DATASET CLASSIFICATION\n",
        "import numpy as np\n",
        "import sys\n",
        "from sklearn.datasets import fetch_openml\n",
        "X, y= fetch_openml('mnist_784', version=1, return_X_y=True)\n",
        "assert(X.shape==(70000,784))\n",
        "# we have the rolled out dataset now. "
      ],
      "execution_count": 0,
      "outputs": []
    },
    {
      "cell_type": "code",
      "metadata": {
        "id": "2MgjbSeUfwI0",
        "colab_type": "code",
        "outputId": "6d6cce0f-7385-4ca0-a369-7d3841868523",
        "colab": {
          "base_uri": "https://localhost:8080/",
          "height": 281
        }
      },
      "source": [
        "# total 70000 pics \n",
        "np.set_printoptions(threshold=sys.maxsize)\n",
        "\n",
        "X=X/255\n",
        "X_train, X_test = np.transpose(X[:60000]), np.transpose(X[60000:])\n",
        "y_train, y_test = y[:60000], y[60000:]\n",
        "\n",
        "tuples_train = [(np.int(y_train[i]),i) for i in range(60000)] \n",
        "rows_train, cols_train = zip(*tuples_train)\n",
        "tuples_test = [(np.int(y_test[i]),i) for i in range(10000)] \n",
        "rows_test, cols_test = zip(*tuples_test)\n",
        "\n",
        "Y_train,Y_test = np.zeros((10,60000)), np.zeros((10,10000))\n",
        "# The outputs are -\n",
        "Y_train[rows_train, cols_train], Y_test[rows_test, cols_test] = [1 for j in range(60000)], [1 for j in range(10000)]\n",
        "\n",
        "assert(Y_train.shape == (10,60000))\n",
        "assert(Y_test.shape == (10,10000))\n",
        "assert(X_train.shape==(784,60000))\n",
        "assert(X_test.shape==(784,10000))\n",
        "# just for visualization\n",
        "plt.imshow(X[0].reshape(28,28))\n",
        "print(y[0])"
      ],
      "execution_count": 3,
      "outputs": [
        {
          "output_type": "stream",
          "text": [
            "5\n"
          ],
          "name": "stdout"
        },
        {
          "output_type": "display_data",
          "data": {
            "image/png": "[encoded data removed]",
            "text/plain": [
              "<Figure size 432x288 with 1 Axes>"
            ]
          },
          "metadata": {
            "tags": []
          }
        }
      ]
    },
    {
      "cell_type": "code",
      "metadata": {
        "id": "5s47sckDkCOy",
        "colab_type": "code",
        "colab": {}
      },
      "source": [
        "def initialize_parameters(nx,nh1,nh2,ny):\n",
        "  # weight matrices initialization\n",
        "  # W = np.empty(3)\n",
        "  W1 = np.random.randn(nh1,784) * 0.01\n",
        "  W2 = np.random.randn(nh2,nh1) * 0.01\n",
        "  W3 = np.random.randn(10,nh2) * 0.01\n",
        "\n",
        "  # b=np.empty(3)\n",
        "\n",
        "  b1 = np.zeros((nh1,1))\n",
        "  b2 = np.zeros((nh2,1))\n",
        "  b3 = np.zeros((10,1))\n",
        "\n",
        "  parameters = {'b1' : b1, 'b2' : b2, 'b3' : b3, 'W1' : W1, 'W2' : W2, 'W3' : W3} \n",
        "\n",
        "  return parameters\n",
        "\n"
      ],
      "execution_count": 0,
      "outputs": []
    },
    {
      "cell_type": "code",
      "metadata": {
        "id": "BTZT3aR4qrW8",
        "colab_type": "code",
        "colab": {}
      },
      "source": [
        "def compute_loss(y_obtained,y_train,m):\n",
        "\n",
        "  # print('obtained output is %s and correct output is %s' %(y_obtained,y_train))\n",
        "  cost = np.sum(np.square(y_obtained-y_train))/(2 * m)\n",
        "  return cost\n"
      ],
      "execution_count": 0,
      "outputs": []
    },
    {
      "cell_type": "code",
      "metadata": {
        "id": "zUfjW-9UuJWI",
        "colab_type": "code",
        "colab": {}
      },
      "source": [
        "def act_func(Z):\n",
        "\n",
        "  return np.tanh(Z)\n",
        "\n",
        "def derivative_actfunc(Z):\n",
        "\n",
        "  return 1-np.square(np.tanh(Z))"
      ],
      "execution_count": 0,
      "outputs": []
    },
    {
      "cell_type": "code",
      "metadata": {
        "id": "8u4WLOHF_c9d",
        "colab_type": "code",
        "colab": {}
      },
      "source": [
        "def gradients(Wthis,Zprev,dZthis,Athis,Aprev,m,actfunc):\n",
        "# note the notation convention is dc = dloss/dc\n",
        "\n",
        "  dZprev =  np.dot(np.transpose(Wthis),dZthis) * (derivative_actfunc(Zprev))\n",
        "  dbthis = (np.sum(dZthis, axis = 1, keepdims=True))/m\n",
        "  dWthis = (np.dot(dZthis,np.transpose(Aprev)))/m\n",
        "\n",
        "  return (dZprev, dWthis, dbthis)"
      ],
      "execution_count": 0,
      "outputs": []
    },
    {
      "cell_type": "code",
      "metadata": {
        "id": "LKhDA_3VmPOZ",
        "colab_type": "code",
        "colab": {}
      },
      "source": [
        "def trainmodel(X_train,Y_train,iterations,m,mtotal,learning_rate):\n",
        "  parameters = initialize_parameters(nx,nh1,nh2,ny)\n",
        "\n",
        "  batch_counter = 0\n",
        "  lossDict = {}\n",
        "  full_lossdict = {}\n",
        "  for count in range (0,iterations):\n",
        "\n",
        "    x_train = X_train[:,batch_counter : batch_counter + m]\n",
        "    y_train = Y_train[:,batch_counter : batch_counter + m]\n",
        "\n",
        "    W1 = parameters['W1']\n",
        "    W2 = parameters['W2']\n",
        "    W3 = parameters['W3']\n",
        "    b1 = parameters['b1']\n",
        "    b2 = parameters['b2']\n",
        "    b3 = parameters['b3']\n",
        "\n",
        "    # forward prop\n",
        "    Z1 = np.dot(W1,x_train) + b1\n",
        "    A1 = act_func(Z1)\n",
        "    Z2 = np.dot(W2,A1) + b2\n",
        "    A2 = act_func(Z2)\n",
        "    Z3 = np.dot(W3,A2) + b3\n",
        "    A3 = act_func(Z3)\n",
        "    assert(A3.shape == (10,m))\n",
        "\n",
        "    # caculate cost and update to dict\n",
        "\n",
        "    if(count%100 == 0):\n",
        "      Z1_ = np.dot(W1,X_train) + b1\n",
        "      A1_ = act_func(Z1_)\n",
        "      Z2_ = np.dot(W2,A1_) + b2\n",
        "      A2_ = act_func(Z2_)\n",
        "      Z3_ = np.dot(W3,A2_) + b3\n",
        "      A3_ = act_func(Z3_)\n",
        "      fullloss = compute_loss(A3_,Y_train,mtotal)\n",
        "      full_lossdict[str(count)] = fullloss\n",
        "      loss = compute_loss(A3,y_train,m) \n",
        "      lossDict[str(count)] = loss\n",
        "      if(count%100 == 0):\n",
        "        print('loss is %f after %d iterations' %(loss,count))\n",
        "\n",
        "    # back prop\n",
        "    dZ3 = (A3 - y_train) * (derivative_actfunc(Z3))\n",
        "    dZ2, dW3, db3 = gradients(parameters['W3'],Z2,dZ3,A3,A2,m,act_func) \n",
        "    dZ1, dW2, db2 = gradients(parameters['W2'],Z1,dZ2,A2,A1,m,act_func) \n",
        "    dW1 = (np.dot(dZ1, np.transpose(x_train)))/m\n",
        "    db1 = (np.sum(dZ1, axis = 1, keepdims=True))/m\n",
        "    grads = {'dW1' : dW1, 'dW2' : dW2, 'dW3' : dW3, 'db1' : db1, 'db2' : db2, 'db3' : db3}\n",
        "\n",
        "    # update parameters\n",
        "    parameters['W1'] -= learning_rate * grads['dW1']\n",
        "    parameters['W2'] -= learning_rate * grads['dW2']\n",
        "    parameters['W3'] -= learning_rate * grads['dW3']\n",
        "    parameters['b1'] -= learning_rate * grads['db1']\n",
        "    parameters['b2'] -= learning_rate * grads['db2']\n",
        "    parameters['b3'] -= learning_rate * grads['db3']\n",
        "\n",
        "    batch_counter = (batch_counter+m)%mtotal\n",
        "\n",
        "  return lossDict, full_lossdict, parameters\n",
        "\n",
        "    "
      ],
      "execution_count": 0,
      "outputs": []
    },
    {
      "cell_type": "code",
      "metadata": {
        "id": "aBwa5RLt4i27",
        "colab_type": "code",
        "outputId": "a7f3e52f-945b-4b63-d7a1-beae2f71da12",
        "colab": {
          "base_uri": "https://localhost:8080/",
          "height": 184
        }
      },
      "source": [
        "# no. of training examples\n",
        "mtotal=60000\n",
        "\n",
        "# batch size for BGD\n",
        "m = 10\n",
        "\n",
        "# layer dimensions\n",
        "nx = 784\n",
        "nh1 = 500\n",
        "nh2 = 500\n",
        "ny = 10\n",
        "\n",
        "# number of iterations\n",
        "iterations  = 1000\n",
        "\n",
        "# learning_rate\n",
        "learning_rate = 0.1\n",
        "\n",
        "# train the model\n",
        "costs, alltraining_costs, modelparameters = trainmodel(X_train,Y_train,iterations,m,mtotal,learning_rate)\n"
      ],
      "execution_count": 39,
      "outputs": [
        {
          "output_type": "stream",
          "text": [
            "loss is 0.502823 after 0 iterations\n",
            "loss is 0.329435 after 100 iterations\n",
            "loss is 0.253824 after 200 iterations\n",
            "loss is 0.230666 after 300 iterations\n",
            "loss is 0.244131 after 400 iterations\n",
            "loss is 0.179078 after 500 iterations\n",
            "loss is 0.170883 after 600 iterations\n",
            "loss is 0.262551 after 700 iterations\n",
            "loss is 0.199751 after 800 iterations\n",
            "loss is 0.274352 after 900 iterations\n"
          ],
          "name": "stdout"
        }
      ]
    },
    {
      "cell_type": "code",
      "metadata": {
        "id": "jqBjkeByU3aD",
        "colab_type": "code",
        "outputId": "88462818-871a-4d7b-9c51-83ba0386ec39",
        "colab": {
          "base_uri": "https://localhost:8080/",
          "height": 606
        }
      },
      "source": [
        "# testmodel\n",
        "trainsize = X_train.shape[1]\n",
        "testsize = X_test.shape[1]\n",
        "W1 = modelparameters['W1']\n",
        "W2 = modelparameters['W2']\n",
        "W3 = modelparameters['W3']\n",
        "b1 = modelparameters['b1']\n",
        "b2 = modelparameters['b2']\n",
        "b3 = modelparameters['b3']\n",
        "\n",
        "Z1 = np.dot(W1,X_test) + b1\n",
        "A1 = act_func(Z1)\n",
        "Z2 = np.dot(W2,A1) + b2\n",
        "A2 = act_func(Z2)\n",
        "Z3 = np.dot(W3,A2) + b3\n",
        "A3 = act_func(Z3)\n",
        "\n",
        "# test accuracy\n",
        "prediction = np.argmax(A3,axis = 0)\n",
        "required = np.argmax(Y_test,axis = 0)\n",
        "correct  = np.sum(np.equal(prediction,required))\n",
        "testaccuracy = 100 * (correct/testsize)  \n",
        "\n",
        "print('model test accuracy = %f' %testaccuracy)\n",
        "\n",
        "Z1 = np.dot(W1,X_train) + b1\n",
        "A1 = act_func(Z1)\n",
        "Z2 = np.dot(W2,A1) + b2\n",
        "A2 = act_func(Z2)\n",
        "Z3 = np.dot(W3,A2) + b3\n",
        "A3 = act_func(Z3)\n",
        "\n",
        "# train accuracy\n",
        "prediction_train = np.argmax(A3,axis = 0)\n",
        "required_train = np.argmax(Y_train,axis = 0)\n",
        "correct_train  = np.sum(np.equal(prediction_train,required_train))\n",
        "trainaccuracy = 100 * (correct_train/trainsize)  \n",
        "\n",
        "print('model train accuracy = %f' %trainaccuracy)\n",
        "    \n",
        "  \n",
        "\n",
        "# plot costs\n",
        "plt.plot(list(costs.keys()), list(costs.values()))\n",
        "plt.ylabel('costs')\n",
        "plt.xlabel('number of iterations')\n",
        "# plt.xticks(rotation = 1)\n",
        "plt.title('plot for cost vs number of iterations')\n",
        "plt.show()\n",
        "\n",
        "\n",
        "plt.plot(list(alltraining_costs.keys()), list(alltraining_costs.values()))\n",
        "plt.ylabel('alltraining - costs')\n",
        "plt.xlabel('number of iterations')\n",
        "# plt.xticks(rotation = 1)\n",
        "plt.title('plot for alltraining - cost vs number of iterations')\n",
        "plt.show()\n"
      ],
      "execution_count": 40,
      "outputs": [
        {
          "output_type": "stream",
          "text": [
            "model test accuracy = 82.430000\n",
            "model train accuracy = 81.773333\n"
          ],
          "name": "stdout"
        },
        {
          "output_type": "display_data",
          "data": {
            "image/png": "[encoded data removed]",
            "text/plain": [
              "<Figure size 432x288 with 1 Axes>"
            ]
          },
          "metadata": {
            "tags": []
          }
        },
        {
          "output_type": "display_data",
          "data": {
            "image/png": "[encoded data removed]",
            "text/plain": [
              "<Figure size 432x288 with 1 Axes>"
            ]
          },
          "metadata": {
            "tags": []
          }
        }
      ]
    }
  ]
}